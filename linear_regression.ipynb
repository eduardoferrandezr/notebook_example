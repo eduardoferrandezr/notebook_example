{
 "cells": [
  {
   "cell_type": "markdown",
   "metadata": {},
   "source": [
    "# Linear regression example\n",
    "\n",
    "This is a simple Jupyter demo. We are going to take two world bank indicators and show visually their correlation using a scatter plot and a regression line over it. These indicators has been chosen by the reading of this document: https://wiki.cs.umd.edu/cmsc734_f13/index.php?title=Correlations_and_Anomalies_in_World_Bank_Indicator_Data. Base code has been taken from http://pandas.pydata.org/pandas-docs/stable/remote_data.html#remote-data-wb and modified to fit the example.\n",
    "\n",
    "## The indicators\n",
    "\n",
    "We are going to download, clean and visualize these indicators\n",
    "\n",
    "| World Bank Code     | Description                                                 |\n",
    "|---------------------|-------------------------------------------------------------|\n",
    "|   SH.STA.ACSN       | Improved sanitation facilities (% of population with access)|\n",
    "|   SE.PRM.CMPT.FE.ZS | Primary completion rate, female (%)                         |\n",
    "\n",
    "\n",
    "## The formula\n",
    "\n",
    "To draw the regression line we are going to use a simple line function\n",
    "\n",
    "$$y = \\beta_0 + \\beta_1x$$\n",
    "\n",
    "The intercept $(\\beta_0)$ and the slope $(\\beta_1)$ are obtained using the **_ordinary least squares_** method.\n",
    "\n",
    "Let's see the code"
   ]
  },
  {
   "cell_type": "code",
   "execution_count": 1,
   "metadata": {
    "collapsed": false
   },
   "outputs": [
    {
     "name": "stdout",
     "output_type": "stream",
     "text": [
      "                                                     sanitation  completion\n",
      "country                                        year                        \n",
      "Arab World                                     2013   82.772362    84.42834\n",
      "Caribbean small states                         2013   85.863751    92.92513\n",
      "Central Europe and the Baltics                 2013   92.601321    96.83580\n",
      "East Asia & Pacific (all income levels)        2013   75.501458   105.54893\n",
      "Euro area                                      2013   98.920460    97.65422\n",
      "Europe & Central Asia (all income levels)      2013   92.912935    98.49197\n",
      "Europe & Central Asia (developing only)        2013   93.238776    99.10096\n",
      "European Union                                 2013   97.775585    97.41499\n",
      "Fragile and conflict affected situations       2013   42.827757    63.59075\n",
      "Heavily indebted poor countries (HIPC)         2013   26.370373    62.10583\n",
      "High income                                    2013   96.258407    98.94553\n",
      "High income: OECD                              2013   99.460578    98.34303\n",
      "Latin America & Caribbean (all income levels)  2013   82.499290   101.82005\n",
      "Latin America & Caribbean (developing only)    2013   79.906923   101.99162\n",
      "Least developed countries: UN classification   2013   35.898048    65.49834\n",
      "Low & middle income                            2013   59.480619    90.41188\n",
      "Low income                                     2013   27.268723    69.50674\n",
      "Lower middle income                            2013   50.537677    90.21800\n",
      "Middle East & North Africa (all income levels) 2013   91.054402    92.65427\n",
      "Middle East & North Africa (developing only)   2013   89.565364    90.63405\n",
      "Middle income                                  2013   63.207210    95.50980\n",
      "OECD members                                   2013   97.662652    99.45926\n",
      "Other small states                             2013   50.753932    80.11221\n",
      "Pacific island small states                    2013   67.998966    98.57228\n",
      "Small states                                   2013   60.015070    84.13692\n",
      "Sub-Saharan Africa (all income levels)         2013   29.028532    66.10681\n",
      "Sub-Saharan Africa (developing only)           2013   28.983201    66.11453\n",
      "World                                          2013   66.504993    91.44117\n",
      "Albania                                        2013   92.700000    91.62478\n",
      "Algeria                                        2013   87.200000   105.63346\n",
      "...                                                         ...         ...\n",
      "Poland                                         2013   96.500000    97.99893\n",
      "Rwanda                                         2013   60.000000    72.13990\n",
      "Sao Tome and Principe                          2013   34.500000   101.89573\n",
      "Saudi Arabia                                   2013  100.000000    99.99106\n",
      "Serbia                                         2013   96.500000    99.29551\n",
      "Seychelles                                     2013   98.400000   102.86624\n",
      "Sierra Leone                                   2013   13.000000    67.57721\n",
      "Slovak Republic                                2013   98.800000    95.37419\n",
      "Slovenia                                       2013   99.100000    98.49771\n",
      "Solomon Islands                                2013   29.200000    86.22844\n",
      "Spain                                          2013   99.900000    99.96429\n",
      "Sri Lanka                                      2013   94.800000    97.15873\n",
      "Suriname                                       2013   79.200000    95.94013\n",
      "Swaziland                                      2013   57.500000    79.65395\n",
      "Sweden                                         2013   99.300000   102.27522\n",
      "Syrian Arab Republic                           2013   95.700000    68.57481\n",
      "Tanzania                                       2013   14.500000    77.09722\n",
      "Timor-Leste                                    2013   40.100000    97.09878\n",
      "Togo                                           2013   11.600000    72.24356\n",
      "Tonga                                          2013   91.100000   106.37417\n",
      "Tunisia                                        2013   90.900000    97.26654\n",
      "Tuvalu                                         2013   83.300000    91.17647\n",
      "Uganda                                         2013   18.800000    55.28300\n",
      "Ukraine                                        2013   95.800000   112.66190\n",
      "United Arab Emirates                           2013   97.500000    98.97938\n",
      "Vanuatu                                        2013   57.900000    97.76430\n",
      "Venezuela, RB                                  2013   94.400000    96.63207\n",
      "Vietnam                                        2013   74.700000    99.27908\n",
      "West Bank and Gaza                             2013   92.300000    93.41977\n",
      "Zambia                                         2013   43.500000    79.91883\n",
      "\n",
      "[137 rows x 2 columns]\n"
     ]
    }
   ],
   "source": [
    "from pandas_datareader import wb\n",
    "\n",
    "ind = ['SH.STA.ACSN', 'SE.PRM.CMPT.FE.ZS']\n",
    "dat = wb.download(indicator=ind, country='all', start=2013, end=2013).dropna()\n",
    "dat.columns = ['sanitation', 'completion']\n",
    "print dat"
   ]
  },
  {
   "cell_type": "code",
   "execution_count": 2,
   "metadata": {
    "collapsed": false
   },
   "outputs": [
    {
     "data": {
      "image/png": "[encoded data removed]",
      "text/plain": [
       "<matplotlib.figure.Figure at 0x10d334a50>"
      ]
     },
     "metadata": {},
     "output_type": "display_data"
    }
   ],
   "source": [
    "%matplotlib inline\n",
    "import matplotlib.pyplot as plt\n",
    "import numpy as np\n",
    "import pandas as pd\n",
    "import statsmodels.formula.api as smf\n",
    "\n",
    "plt.figure(1)\n",
    "\n",
    "sanitation = dat['sanitation']\n",
    "completion = dat['completion']\n",
    "mod = smf.ols(\"completion ~ sanitation\", dat).fit()\n",
    "(intercept, slope) = mod.params\n",
    "x = np.array([min(sanitation), max(sanitation)])\n",
    "y = intercept + slope * x\n",
    "plt.plot(x, y, '-r')\n",
    "plt.scatter(sanitation, completion, alpha=0.5)\n",
    "plt.xlabel(\"Improved sanitation facilities (%)\")\n",
    "plt.ylabel(\"Primary completion rate, female (%)\")\n",
    "plt.show()"
   ]
  },
  {
   "cell_type": "code",
   "execution_count": null,
   "metadata": {
    "collapsed": true
   },
   "outputs": [],
   "source": []
  }
 ],
 "metadata": {
  "kernelspec": {
   "display_name": "Python 2",
   "language": "python",
   "name": "python2"
  },
  "language_info": {
   "codemirror_mode": {
    "name": "ipython",
    "version": 2
   },
   "file_extension": ".py",
   "mimetype": "text/x-python",
   "name": "python",
   "nbconvert_exporter": "python",
   "pygments_lexer": "ipython2",
   "version": "2.7.5"
  }
 },
 "nbformat": 4,
 "nbformat_minor": 0
}
